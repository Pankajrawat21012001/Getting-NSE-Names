{
 "cells": [
  {
   "cell_type": "code",
   "execution_count": 1,
   "metadata": {},
   "outputs": [],
   "source": [
    "from nsetools import Nse\n",
    "nse=Nse()"
   ]
  },
  {
   "cell_type": "code",
   "execution_count": 2,
   "metadata": {},
   "outputs": [
    {
     "data": {
      "text/plain": [
       "1728"
      ]
     },
     "execution_count": 2,
     "metadata": {},
     "output_type": "execute_result"
    }
   ],
   "source": [
    "len(nse.get_stock_codes(cached=False))"
   ]
  },
  {
   "cell_type": "code",
   "execution_count": 3,
   "metadata": {
    "scrolled": true
   },
   "outputs": [],
   "source": [
    "# import requests,webbrowser,bs4,sys\n",
    "# import re\n",
    "# res=requests.get('https://www.google.com/search?q='+\"HDFC BANK share price\")\n",
    "\n",
    "# soup=bs4.BeautifulSoup(res.text,'html')\n",
    "# # print(soup.prettify())\n",
    "# a=str(soup.find(\"span\",class_=\"r0bn4c rQMQod\"))\n",
    "# a=re.sub('\\<span class=\\\"r0bn4c rQMQod\\\"\\>',\"\",a)\n",
    "# a=re.sub('\\(NSE\\)\\</span\\>',\"\",a)\n",
    "# a"
   ]
  },
  {
   "cell_type": "code",
   "execution_count": 4,
   "metadata": {
    "scrolled": true
   },
   "outputs": [],
   "source": [
    "#FOR NSE CODE\n",
    "\n",
    "\n",
    "import requests,webbrowser,bs4,sys\n",
    "import re\n",
    "f=open(\"Only name.txt\",\"r\")\n",
    "content=f.readlines()\n",
    "f.close()\n",
    "g=open(\"NSE Name.txt\",'w')\n",
    "for i in range(sum(1 for line in open(\"Only name.txt\"))):\n",
    "    res=requests.get('https://www.google.com/search?q='+(content[i])+\" share price\")      # the url which we want to search\n",
    "    soup=bs4.BeautifulSoup(res.text,'html')                                #This is used for making source code good look\n",
    "\n",
    "    a=str(soup.find(\"span\",class_=\"r0bn4c rQMQod\"))          #this is the place of hell finding the position of what u want\n",
    "    a=re.sub('\\<span class=\\\"r0bn4c rQMQod\\\"\\>',\"\",a)\n",
    "    a=re.sub('\\</span\\>',\"\",a)\n",
    "    g.write(a+\"\\n\")\n",
    "g.close()"
   ]
  },
  {
   "cell_type": "code",
   "execution_count": 5,
   "metadata": {},
   "outputs": [],
   "source": [
    "#FOR BSE CODE\n",
    "\n",
    "import requests,webbrowser,bs4,sys\n",
    "import re\n",
    "f=open(\"Only name.txt\",\"r\")\n",
    "content=f.readlines()\n",
    "f.close()\n",
    "g=open(\"BSE Name.txt\",'w')\n",
    "for i in range(sum(1 for line in open(\"Only name.txt\"))):\n",
    "    res=requests.get('https://www.google.com/search?q='+(content[i])+\" share price bse\")      # the url which we want to search\n",
    "    soup=bs4.BeautifulSoup(res.text,'html')                               #This is used for making source code good look\n",
    "\n",
    "    a=str(soup.find(\"span\",class_=\"r0bn4c rQMQod\"))          #this is the place of hell finding the position of what u want\n",
    "    a=re.sub('\\<span class=\\\"r0bn4c rQMQod\\\"\\>',\"\",a)\n",
    "    a=re.sub('\\</span\\>',\"\",a)\n",
    "    g.write(a+\"\\n\")\n",
    "g.close()"
   ]
  }
 ],
 "metadata": {
  "kernelspec": {
   "display_name": "Python 3",
   "language": "python",
   "name": "python3"
  },
  "language_info": {
   "codemirror_mode": {
    "name": "ipython",
    "version": 3
   },
   "file_extension": ".py",
   "mimetype": "text/x-python",
   "name": "python",
   "nbconvert_exporter": "python",
   "pygments_lexer": "ipython3",
   "version": "3.8.5"
  }
 },
 "nbformat": 4,
 "nbformat_minor": 4
}
